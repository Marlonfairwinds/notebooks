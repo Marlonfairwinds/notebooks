{
 "cells": [
  {
   "cell_type": "code",
   "execution_count": null,
   "metadata": {},
   "outputs": [],
   "source": [
    "connection_string=\"strfstsftp.fieldpowerinternal@strfstsftp.blob.core.windows.net9tFsQssh\"\n",
    "password=\"gTRnP7JERaiflfuj06dNQhw6Ns3sxwzJ\"\n",
    "user=\"fieldpowerinternal\"\n",
    "\n",
    "# remember we have to use paramiko"
   ]
  },
  {
   "cell_type": "code",
   "execution_count": null,
   "metadata": {},
   "outputs": [],
   "source": [
    "import paramiko"
   ]
  },
  {
   "cell_type": "code",
   "execution_count": null,
   "metadata": {},
   "outputs": [],
   "source": [
    "\n",
    "\n",
    "# Extract the relevant information from the connection string\n",
    "host = \"strfstsftp.blob.core.windows.net\"\n",
    "port = 22\n",
    "username = \"strfstsftp.fieldpowerinternal\"\n",
    "private_key_path = \"9tFsQssh\"\n",
    "\n",
    "# Create a new instance of the SSHClient class\n",
    "client = paramiko.SSHClient()\n",
    "\n",
    "# Automatically add the remote server's host key to the local key store\n",
    "client.set_missing_host_key_policy(paramiko.AutoAddPolicy())\n",
    "\n",
    "# Connect to the SFTP server using the extracted information\n",
    "client.connect(host, port=port, username=username, key_filename=private_key_path, password=password)\n",
    "\n",
    "# Open an SFTP session and navigate to the desired directory\n",
    "sftp = client.open_sftp()\n",
    "sftp.chdir(\"my_directory\")\n",
    "\n",
    "# List the contents of the directory\n",
    "directory_contents = sftp.listdir()\n",
    "\n",
    "# Close the SFTP session and the SSH client\n",
    "sftp.close()\n",
    "client.close()\n",
    "\n",
    "# Print the contents of the directory\n",
    "print(directory_contents)\n"
   ]
  },
  {
   "cell_type": "code",
   "execution_count": null,
   "metadata": {},
   "outputs": [],
   "source": [
    "import paramiko\n",
    "\n",
    "# Define SSH parameters\n",
    "ssh_host = 'strfstsftp.blob.core.windows.net'\n",
    "ssh_user = 'fieldpowerinternal'\n",
    "ssh_password = 'gTRnP7JERaiflfuj06dNQhw6Ns3sxwzJ'\n",
    "\n",
    "# Create SSH client\n",
    "client = paramiko.SSHClient()\n",
    "\n",
    "# Automatically add host key\n",
    "client.set_missing_host_key_policy(paramiko.AutoAddPolicy())\n",
    "\n",
    "# Connect to remote server\n",
    "client.connect(hostname=ssh_host, username=ssh_user, password=ssh_password)\n",
    "\n",
    "# Execute command remotely\n",
    "stdin, stdout, stderr = client.exec_command('ls -l')\n",
    "for line in stdout:\n",
    "    print(line.strip())\n",
    "\n",
    "# Close SSH client\n",
    "client.close()"
   ]
  }
 ],
 "metadata": {
  "kernelspec": {
   "display_name": "base",
   "language": "python",
   "name": "python3"
  },
  "language_info": {
   "codemirror_mode": {
    "name": "ipython",
    "version": 3
   },
   "file_extension": ".py",
   "mimetype": "text/x-python",
   "name": "python",
   "nbconvert_exporter": "python",
   "pygments_lexer": "ipython3",
   "version": "3.9.13"
  },
  "orig_nbformat": 4
 },
 "nbformat": 4,
 "nbformat_minor": 2
}
