{
 "cells": [
  {
   "cell_type": "code",
   "execution_count": 1,
   "metadata": {},
   "outputs": [],
   "source": [
    "\n",
    "import os\n",
    "import csv\n",
    "from azure.identity import DefaultAzureCredential\n",
    "from azure.storage.blob import BlobServiceClient, BlobClient, ContainerClient\n",
    "\n"
   ]
  },
  {
   "cell_type": "code",
   "execution_count": 2,
   "metadata": {},
   "outputs": [],
   "source": [
    "\n",
    "# microsoft documentation for python sdk https://learn.microsoft.com/en-us/azure/storage/blobs/storage-blobs-list-python\n",
    "account_url = \"https://strfstsftp.blob.core.windows.net\"\n",
    "shared_access_key = \"t0CQM1R2gJ5lfPrqbySf1DpkMpskPWMAW924EX1kt2IBvyyH0jfu7J+7T0BeE2myu/vedyVojj3e+ASt4hp5ig==\"\n",
    "blob_service_client = BlobServiceClient(account_url, credential=shared_access_key)"
   ]
  },
  {
   "cell_type": "code",
   "execution_count": 3,
   "metadata": {},
   "outputs": [
    {
     "name": "stdout",
     "output_type": "stream",
     "text": [
      "fstdata\n"
     ]
    }
   ],
   "source": [
    "# list all containers in blod storage \n",
    "container_list = blob_service_client.list_containers()\n",
    "for container in container_list:\n",
    "    print(container.name)"
   ]
  },
  {
   "cell_type": "code",
   "execution_count": 4,
   "metadata": {},
   "outputs": [
    {
     "name": "stdout",
     "output_type": "stream",
     "text": [
      "fieldpower\n",
      "fieldpower/CustomerBillingRpt.csv\n",
      "fieldpower/TechBillingRpt.csv\n",
      "fieldpower/TechBillingRpt03172023.csv.filepart\n",
      "fieldpower/fieldpower\n",
      "fieldpower/test.txt\n"
     ]
    }
   ],
   "source": [
    "\n",
    "# Select the correct container and list the files \n",
    "\n",
    "container_name = \"fstdata\"\n",
    "blob_service_client = BlobServiceClient(account_url, credential=shared_access_key)\n",
    "container_client = blob_service_client.get_container_client(container_name)\n",
    "blob_list = container_client.list_blobs()\n",
    "\n",
    "for blob in blob_list:\n",
    "    print(blob.name)"
   ]
  },
  {
   "cell_type": "code",
   "execution_count": 5,
   "metadata": {},
   "outputs": [
    {
     "name": "stdout",
     "output_type": "stream",
     "text": [
      "fieldpower/CustomerBillingRpt.csv\n",
      "fieldpower/TechBillingRpt.csv\n",
      "fieldpower/TechBillingRpt03172023.csv.filepart\n",
      "fieldpower/fieldpower\n",
      "fieldpower/test.txt\n"
     ]
    }
   ],
   "source": [
    "\n",
    "container_name = \"fstdata\"\n",
    "blob_service_client = BlobServiceClient(account_url, credential=shared_access_key)\n",
    "container_client = blob_service_client.get_container_client(container_name)\n",
    "blob_list = container_client.list_blobs(name_starts_with=\"fieldpower/\")\n",
    "\n",
    "for blob in blob_list:\n",
    "    print(blob.name)"
   ]
  },
  {
   "cell_type": "code",
   "execution_count": 8,
   "metadata": {},
   "outputs": [
    {
     "name": "stdout",
     "output_type": "stream",
     "text": [
      "Blob downloaded: fieldpower/CustomerBillingRpt.csv\n",
      "Blob downloaded: fieldpower/TechBillingRpt.csv\n",
      "Blob downloaded: fieldpower/TechBillingRpt03172023.csv.filepart\n",
      "Blob downloaded: fieldpower/fieldpower\n",
      "Blob downloaded: fieldpower/test.txt\n"
     ]
    }
   ],
   "source": [
    "# download the all the files inside the conteiner in your current folder \n",
    "container_name = \"fstdata\"\n",
    "\n",
    "blob_service_client = BlobServiceClient(account_url, credential=shared_access_key)\n",
    "container_client = blob_service_client.get_container_client(container_name)\n",
    "\n",
    "blob_list = container_client.list_blobs(name_starts_with=\"fieldpower/\")\n",
    "\n",
    "# Download blobs\n",
    "for blob in blob_list:\n",
    "    blob_name = blob.name\n",
    "    download_path = os.path.basename(blob_name)\n",
    "    with open(download_path, \"wb\") as download_file:\n",
    "        download_stream = container_client.download_blob(blob)\n",
    "        download_file.write(download_stream.readall())\n",
    "        print(\"Blob downloaded:\", blob_name)"
   ]
  },
  {
   "cell_type": "code",
   "execution_count": 7,
   "metadata": {},
   "outputs": [
    {
     "name": "stdout",
     "output_type": "stream",
     "text": [
      "Blob name: fieldpower/CustomerBillingRpt.csv, Last modified: 2023-04-12 09:00:15+00:00\n",
      "Blob name: fieldpower/TechBillingRpt.csv, Last modified: 2023-04-12 09:00:24+00:00\n",
      "Blob name: fieldpower/TechBillingRpt03172023.csv.filepart, Last modified: 2023-03-17 10:54:41+00:00\n",
      "Blob name: fieldpower/fieldpower, Last modified: 2023-04-18 13:44:00+00:00\n",
      "Blob name: fieldpower/test.txt, Last modified: 2023-03-06 21:50:41+00:00\n"
     ]
    }
   ],
   "source": [
    "# bring properties of each file \n",
    "\n",
    "container_name = \"fstdata\"\n",
    "\n",
    "blob_service_client = BlobServiceClient(account_url, credential=shared_access_key)\n",
    "container_client = blob_service_client.get_container_client(container_name)\n",
    "\n",
    "blob_list = container_client.list_blobs(name_starts_with=\"fieldpower/\")\n",
    "\n",
    "for blob in blob_list:\n",
    "    blob_client = container_client.get_blob_client(blob)\n",
    "    properties = blob_client.get_blob_properties()\n",
    "    last_modified = properties[\"last_modified\"]\n",
    "    print(f\"Blob name: {blob.name}, Last modified: {last_modified}\")\n",
    "    "
   ]
  },
  {
   "cell_type": "code",
   "execution_count": 6,
   "metadata": {},
   "outputs": [
    {
     "name": "stdout",
     "output_type": "stream",
     "text": [
      "Blob downloaded: fieldpower/CustomerBillingRpt.csv\n",
      "Blob downloaded: fieldpower/TechBillingRpt.csv\n",
      "Blob downloaded: fieldpower/TechBillingRpt03172023.csv.filepart\n",
      "Blob downloaded: fieldpower/fieldpower\n",
      "Blob downloaded: fieldpower/test.txt\n"
     ]
    }
   ],
   "source": [
    "# download the all the files inside the conteiner in A FOLDER CALLED FSTDATA\n",
    "container_name = \"fstdata\"\n",
    "folder_path = \"fstdata\"\n",
    "\n",
    "blob_service_client = BlobServiceClient(account_url, credential=shared_access_key)\n",
    "container_client = blob_service_client.get_container_client(container_name)\n",
    "\n",
    "blob_list = container_client.list_blobs(name_starts_with=\"fieldpower/\")\n",
    "\n",
    "# Create folder if it does not exist\n",
    "if not os.path.exists(folder_path):\n",
    "    os.makedirs(folder_path)\n",
    "\n",
    "# Download blobs\n",
    "for blob in blob_list:\n",
    "    blob_name = blob.name\n",
    "    download_path = os.path.join(folder_path, os.path.basename(blob_name))\n",
    "    with open(download_path, \"wb\") as download_file:\n",
    "        download_stream = container_client.download_blob(blob)\n",
    "        download_file.write(download_stream.readall())\n",
    "        print(\"Blob downloaded:\", blob_name)"
   ]
  },
  {
   "cell_type": "code",
   "execution_count": 77,
   "metadata": {},
   "outputs": [],
   "source": [
    "\n",
    "\n",
    "# trying to fix the error nul\n",
    "\n",
    "# Convert the csv file in a txt file because is easy to handle characters \n",
    "\n",
    "import csv\n",
    "\n",
    "# List of input files\n",
    "input_files = ['TechBillingRpt.csv', 'CustomerBillingRpt.csv']\n",
    "\n",
    "# Loop over input files\n",
    "for input_file in input_files:\n",
    "\n",
    "    # Create output file name based on input file name\n",
    "    output_file = input_file.replace('.csv', '.txt')\n",
    "\n",
    "    with open(input_file, 'r', encoding='utf-8', errors='replace') as csvfile:\n",
    "        csvdata = csvfile.read().replace('\\0', '')\n",
    "\n",
    "        \n",
    "        memory_csv = csv.StringIO(csvdata)\n",
    "\n",
    "        with open(output_file, 'w') as txtfile:\n",
    "\n",
    "            \n",
    "            reader = csv.reader(memory_csv)\n",
    "\n",
    "          \n",
    "            for row in reader:\n",
    "\n",
    "\n",
    "                # Escribe la línea al archivo de texto\n",
    "                txtfile.write(' '.join(row) + '\\n')\n"
   ]
  },
  {
   "cell_type": "code",
   "execution_count": 79,
   "metadata": {},
   "outputs": [],
   "source": [
    "\n",
    "# Delete white break line \n",
    "# List of input files to process\n",
    "input_files = ['TechBillingRpt.txt', 'CustomerBillingRpt.txt']\n",
    "\n",
    "# Loop over input files\n",
    "for input_file in input_files:\n",
    "\n",
    "    # Open the input file\n",
    "    with open(input_file, 'r') as file:\n",
    "        lines = file.readlines()\n",
    "\n",
    "    # Create output file name based on input file name\n",
    "    output_file = input_file.replace('.txt', '.txt')\n",
    "\n",
    "    # Open a text file for writing\n",
    "    with open(output_file, 'w') as file:\n",
    "        for line in lines:\n",
    "            if not line.isspace():\n",
    "                file.write(line)"
   ]
  },
  {
   "cell_type": "code",
   "execution_count": 80,
   "metadata": {},
   "outputs": [],
   "source": [
    "#convert each line in a single line \n",
    "for input_file in input_files:\n",
    "\n",
    "    # Open the input file\n",
    "    with open(input_file, 'r') as file:\n",
    "        text = file.read().replace('\\n', '')\n",
    "\n",
    "    # Write the modified text to a new file\n",
    "    output_file = input_file.replace('.txt', '.txt')\n",
    "    with open(output_file, 'w') as file:\n",
    "        file.write(text)"
   ]
  },
  {
   "cell_type": "code",
   "execution_count": 81,
   "metadata": {},
   "outputs": [],
   "source": [
    "for input_file in input_files:\n",
    "\n",
    "    # Open the input file\n",
    "    with open(input_file, 'r') as file:\n",
    "        lines = file.readlines()\n",
    "\n",
    "    # Modify the lines\n",
    "    for i in range(len(lines)):\n",
    "        lines[i] = lines[i].replace('|companyid', '|companyid\\n')\n",
    "\n",
    "    # Write the modified lines to a new file\n",
    "    output_file = input_file.replace('.txt', '.txt')\n",
    "    with open(output_file, 'w') as file:\n",
    "        file.writelines(lines)"
   ]
  },
  {
   "cell_type": "code",
   "execution_count": 82,
   "metadata": {},
   "outputs": [],
   "source": [
    "# break line for each companyID remember be careful with the row 602 \n",
    "for input_file in input_files:\n",
    "\n",
    "    # Open the input file\n",
    "    with open(input_file, 'r') as file:\n",
    "        lines = file.readlines()\n",
    "\n",
    "    # Modify the lines\n",
    "    for i in range(len(lines)):\n",
    "        lines[i] = lines[i].replace('|602', '|602\\n')\n",
    "\n",
    "    # Write the modified lines to a new file\n",
    "    output_file = input_file.replace('.txt', '.txt')\n",
    "    with open(output_file, 'w') as file:\n",
    "        file.writelines(lines)\n"
   ]
  },
  {
   "cell_type": "code",
   "execution_count": 83,
   "metadata": {},
   "outputs": [],
   "source": [
    "for input_file in input_files:\n",
    "\n",
    "    # Create output file name based on input file name\n",
    "    output_file = input_file.replace('.txt', 'copy.csv')\n",
    "\n",
    "    # Open the input file for reading\n",
    "    with open(input_file, 'r') as txtfile:\n",
    "\n",
    "        # Open the output CSV file for writing\n",
    "        with open(output_file, 'w', newline='') as csvfile:\n",
    "\n",
    "            # Create a CSV writer object\n",
    "            writer = csv.writer(csvfile)\n",
    "\n",
    "            # Loop through each line in the input file\n",
    "            for line in txtfile:\n",
    "\n",
    "                # Write the line to the CSV file as a single column\n",
    "                writer.writerow([line.strip()])\n"
   ]
  },
  {
   "cell_type": "code",
   "execution_count": 89,
   "metadata": {},
   "outputs": [],
   "source": [
    "# Margin% = (sum('Customer Billing Report'[CustomerCost])-sum('Technician Billing Report'[TechnicianCost]))/sum('Customer Billing Report'[CustomerCost])\n",
    "# Margin% = (sum('Customer Billing Report'[CustomerCost])-sum('Technician Billing Report'[TechnicianCost]))/sum('Customer Billing Report'[CustomerCost])\n",
    "# Margin% = (sum('CBR'[CustomerCost])-sum('TBR'[TechnicianCost]))/sum('CBR'[CustomerCost])"
   ]
  }
 ],
 "metadata": {
  "kernelspec": {
   "display_name": "base",
   "language": "python",
   "name": "python3"
  },
  "language_info": {
   "codemirror_mode": {
    "name": "ipython",
    "version": 3
   },
   "file_extension": ".py",
   "mimetype": "text/x-python",
   "name": "python",
   "nbconvert_exporter": "python",
   "pygments_lexer": "ipython3",
   "version": "3.9.13"
  },
  "orig_nbformat": 4
 },
 "nbformat": 4,
 "nbformat_minor": 2
}
