{
 "cells": [
  {
   "cell_type": "code",
   "execution_count": 6,
   "metadata": {},
   "outputs": [],
   "source": [
    "\n",
    "import os\n",
    "from azure.identity import DefaultAzureCredential\n",
    "from azure.storage.blob import BlobServiceClient, BlobClient, ContainerClient\n",
    "\n"
   ]
  },
  {
   "cell_type": "code",
   "execution_count": 14,
   "metadata": {},
   "outputs": [],
   "source": [
    "\n",
    "# microsoft documentation for python sdk https://learn.microsoft.com/en-us/azure/storage/blobs/storage-blobs-list-python\n",
    "account_url = \"https://strfstsftp.blob.core.windows.net\"\n",
    "shared_access_key = \"t0CQM1R2gJ5lfPrqbySf1DpkMpskPWMAW924EX1kt2IBvyyH0jfu7J+7T0BeE2myu/vedyVojj3e+ASt4hp5ig==\"\n",
    "blob_service_client = BlobServiceClient(account_url, credential=shared_access_key)"
   ]
  },
  {
   "cell_type": "code",
   "execution_count": 15,
   "metadata": {},
   "outputs": [
    {
     "name": "stdout",
     "output_type": "stream",
     "text": [
      "fstdata\n"
     ]
    }
   ],
   "source": [
    "# list all containers in blod storage \n",
    "container_list = blob_service_client.list_containers()\n",
    "for container in container_list:\n",
    "    print(container.name)"
   ]
  },
  {
   "cell_type": "code",
   "execution_count": 16,
   "metadata": {},
   "outputs": [
    {
     "name": "stdout",
     "output_type": "stream",
     "text": [
      "fieldpower\n",
      "fieldpower/CustomerBillingRpt.csv\n",
      "fieldpower/TechBillingRpt.csv\n",
      "fieldpower/TechBillingRpt03172023.csv.filepart\n",
      "fieldpower/fieldpower\n",
      "fieldpower/test.txt\n"
     ]
    }
   ],
   "source": [
    "\n",
    "# Select the correct container and list the files \n",
    "\n",
    "container_name = \"fstdata\"\n",
    "blob_service_client = BlobServiceClient(account_url, credential=shared_access_key)\n",
    "container_client = blob_service_client.get_container_client(container_name)\n",
    "blob_list = container_client.list_blobs()\n",
    "\n",
    "for blob in blob_list:\n",
    "    print(blob.name)"
   ]
  },
  {
   "cell_type": "code",
   "execution_count": 19,
   "metadata": {},
   "outputs": [
    {
     "name": "stdout",
     "output_type": "stream",
     "text": [
      "fieldpower/CustomerBillingRpt.csv\n",
      "fieldpower/TechBillingRpt.csv\n",
      "fieldpower/TechBillingRpt03172023.csv.filepart\n",
      "fieldpower/fieldpower\n",
      "fieldpower/test.txt\n"
     ]
    }
   ],
   "source": [
    "\n",
    "container_name = \"fstdata\"\n",
    "blob_service_client = BlobServiceClient(account_url, credential=shared_access_key)\n",
    "container_client = blob_service_client.get_container_client(container_name)\n",
    "blob_list = container_client.list_blobs(name_starts_with=\"fieldpower/\")\n",
    "\n",
    "for blob in blob_list:\n",
    "    print(blob.name)"
   ]
  },
  {
   "cell_type": "code",
   "execution_count": 26,
   "metadata": {},
   "outputs": [
    {
     "name": "stdout",
     "output_type": "stream",
     "text": [
      "Blob downloaded: fieldpower/CustomerBillingRpt.csv\n",
      "Blob downloaded: fieldpower/TechBillingRpt.csv\n",
      "Blob downloaded: fieldpower/TechBillingRpt03172023.csv.filepart\n",
      "Blob downloaded: fieldpower/fieldpower\n",
      "Blob downloaded: fieldpower/test.txt\n"
     ]
    }
   ],
   "source": [
    "# download the all the files inside the conteiner in your current folder \n",
    "container_name = \"fstdata\"\n",
    "\n",
    "blob_service_client = BlobServiceClient(account_url, credential=shared_access_key)\n",
    "container_client = blob_service_client.get_container_client(container_name)\n",
    "\n",
    "blob_list = container_client.list_blobs(name_starts_with=\"fieldpower/\")\n",
    "\n",
    "# Download blobs\n",
    "for blob in blob_list:\n",
    "    blob_name = blob.name\n",
    "    download_path = os.path.basename(blob_name)\n",
    "    with open(download_path, \"wb\") as download_file:\n",
    "        download_stream = container_client.download_blob(blob)\n",
    "        download_file.write(download_stream.readall())\n",
    "        print(\"Blob downloaded:\", blob_name)"
   ]
  },
  {
   "cell_type": "code",
   "execution_count": 28,
   "metadata": {},
   "outputs": [
    {
     "name": "stdout",
     "output_type": "stream",
     "text": [
      "Blob downloaded: fieldpower/CustomerBillingRpt.csv\n",
      "Blob downloaded: fieldpower/TechBillingRpt.csv\n",
      "Blob downloaded: fieldpower/TechBillingRpt03172023.csv.filepart\n",
      "Blob downloaded: fieldpower/fieldpower\n",
      "Blob downloaded: fieldpower/test.txt\n"
     ]
    }
   ],
   "source": [
    "# download the all the files inside the conteiner in A FOLDER CALLED FSTDATA\n",
    "container_name = \"fstdata\"\n",
    "folder_path = \"fstdata\"\n",
    "\n",
    "blob_service_client = BlobServiceClient(account_url, credential=shared_access_key)\n",
    "container_client = blob_service_client.get_container_client(container_name)\n",
    "\n",
    "blob_list = container_client.list_blobs(name_starts_with=\"fieldpower/\")\n",
    "\n",
    "# Create folder if it does not exist\n",
    "if not os.path.exists(folder_path):\n",
    "    os.makedirs(folder_path)\n",
    "\n",
    "# Download blobs\n",
    "for blob in blob_list:\n",
    "    blob_name = blob.name\n",
    "    download_path = os.path.join(folder_path, os.path.basename(blob_name))\n",
    "    with open(download_path, \"wb\") as download_file:\n",
    "        download_stream = container_client.download_blob(blob)\n",
    "        download_file.write(download_stream.readall())\n",
    "        print(\"Blob downloaded:\", blob_name)"
   ]
  },
  {
   "cell_type": "code",
   "execution_count": null,
   "metadata": {},
   "outputs": [],
   "source": [
    "# Margin% = (sum('Customer Billing Report'[CustomerCost])-sum('Technician Billing Report'[TechnicianCost]))/sum('Customer Billing Report'[CustomerCost])\n",
    "# Margin% = (sum('CBR'[CustomerCost])-sum('TBR0317'[TechnicianCost]))/sum('CBR'[CustomerCost])"
   ]
  }
 ],
 "metadata": {
  "kernelspec": {
   "display_name": "base",
   "language": "python",
   "name": "python3"
  },
  "language_info": {
   "codemirror_mode": {
    "name": "ipython",
    "version": 3
   },
   "file_extension": ".py",
   "mimetype": "text/x-python",
   "name": "python",
   "nbconvert_exporter": "python",
   "pygments_lexer": "ipython3",
   "version": "3.9.13"
  },
  "orig_nbformat": 4
 },
 "nbformat": 4,
 "nbformat_minor": 2
}
