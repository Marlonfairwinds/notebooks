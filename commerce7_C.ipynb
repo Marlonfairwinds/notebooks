{
 "cells": [
  {
   "attachments": {},
   "cell_type": "markdown",
   "metadata": {},
   "source": [
    "This notebook is to import contact from commerce7"
   ]
  },
  {
   "cell_type": "code",
   "execution_count": 2,
   "metadata": {},
   "outputs": [],
   "source": [
    "\n",
    "import requests\n",
    "import pandas as pd\n",
    "from requests.auth import HTTPBasicAuth\n",
    "import json"
   ]
  },
  {
   "cell_type": "code",
   "execution_count": 6,
   "metadata": {},
   "outputs": [
    {
     "name": "stdout",
     "output_type": "stream",
     "text": [
      "1\n"
     ]
    }
   ],
   "source": [
    "# Instantiate empty \n",
    "# List tenants for connections\n",
    "\n",
    "\n",
    "# No results maverick-moon-napa-valley\n",
    "\n",
    "#winning-drive-napa-valley\n",
    "# tenants = ['12th-gate-napa-valley', '1967-cellars-napa-valley', '1883-reserve-napa-valley',\n",
    "#        '510-pearl-napa-valley', '90-broad-napa-valley',\n",
    "#        'black-and-gold-napa-valley', 'bold-stripes-napa-valley',\n",
    "#        'brownstown-napa-valley', 'ever-blooming-napa-valley',\n",
    "#        'excelsior-napa-valley', 'green-19-napa-valley', 'fairwinds-estate-winery',\n",
    "#        'first-moon-napa-valley', 'foolish-club-napa-valley',\n",
    "#        'founders-rock-napa-valley', 'four-points-napa-valley',\n",
    "#        'golden-anchor-napa-valley', 'great-day-napa-valley',\n",
    "#        'great-minds-napa-valley', 'horns-tail-napa-valley',\n",
    "#        'in-hoc-napa-valley', 'killarney-napa-valley',\n",
    "#        'landfall-napa-valley', 'les-soeurs-fideles-napa-valley','long-gray-line-napa-valley',\n",
    "#        'mountain-born-napa-valley', 'mystic-circle-napa-valley',\n",
    "#        'nineteen-seventeen-napa-valley', 'obbligato-napa-valley',\n",
    "#        'one-heart-napa-valley', 'parasol-napa-valley', 'perpetual-napa-valley',\n",
    "#        'phiphika-napa-valley', 'prowling-vineyards-napa-valley',\n",
    "#        'radiant-napa-valley', 'rattlesnake-napa-valley',\n",
    "#        'red-door-napa-valley', 'ruby-points-napa-valley',\n",
    "#        'seeing-eye-napa-valley', 'spindletop-napa-valley',\n",
    "#        'steel-curtain-napa-valley', 'tg-napa-valley', 'the-fleur-napa-valley',\n",
    "#        'the-ivy-napa-valley', 'three-degrees-napa-valley',\n",
    "#        'three-strings-napa-valley', 'tower-napa-valley',\n",
    "#        'true-north-napa-valley', 'unmatched-napa-valley',\n",
    "#        'vine-04-napa-valley', 'winning-drive-napa-valley']\n",
    "tenants = ['nineteen-seventeen-napa-valley']\n",
    "print(len(tenants))"
   ]
  },
  {
   "cell_type": "code",
   "execution_count": 7,
   "metadata": {},
   "outputs": [
    {
     "name": "stdout",
     "output_type": "stream",
     "text": [
      "nineteen-seventeen-napa-valley   82\n",
      "82\n",
      "<class 'int'>\n"
     ]
    }
   ],
   "source": [
    "contador=0\n",
    "\n",
    "\n",
    "for item in tenants:\n",
    "\n",
    "    customers = []\n",
    "    params = {'cursor': 'start'}\n",
    "    url = 'https://api.commerce7.com/v1/customer'\n",
    "   \n",
    "    while True:\n",
    "        # response = requests.get(url, auth = HTTPBasicAuth('marlon@fewinery.com', 'VigiliA78'), headers = {\"tenant\":tenants, \"Content-Type\":\"application/json\"}, params=params)\n",
    "        response = requests.get(url, auth = HTTPBasicAuth('marlon@fewinery.com', 'VigiliA78'), headers = {\"tenant\":item, \"Content-Type\":\"application/json\"}, params=params)\n",
    "        res = response.json()\n",
    "        info = res['customers']\n",
    "        customers.extend(info)\n",
    "\n",
    "        if (cursor := res.get('cursor')):\n",
    "            params['cursor'] = cursor\n",
    "        else:\n",
    "            break\n",
    "    print(item, \" \",  len(customers))\n",
    "    contador += len(customers)\n",
    "\n",
    "\n",
    "formatter = [json.dumps(item, indent=4, sort_keys=True) for item in customers]\n",
    "print(contador)\n",
    "print(type(contador))\n",
    "    # 134 510\n",
    "    # 37 1967\n",
    "    # df = pd.DataFrame(customers)\n",
    "    # # df.to_csv('customers.csv', index=False)\n",
    "    # df.to_csv(f'../doc/customers_{item}.csv', index=False)\n",
    "    \n"
   ]
  },
  {
   "cell_type": "code",
   "execution_count": 8,
   "metadata": {},
   "outputs": [],
   "source": [
    "customers = []\n",
    "params = {'cursor': 'start'}\n",
    "\n",
    "url = 'https://api.commerce7.com/v1/customer'\n",
    "\n",
    "while True:\n",
    "    # response = requests.get(url, auth = HTTPBasicAuth('marlon@fewinery.com', 'VigiliA78'), headers = {\"tenant\":tenants, \"Content-Type\":\"application/json\"}, params=params)\n",
    "    response = requests.get(url, auth = HTTPBasicAuth('marlon@fewinery.com', 'VigiliA78'), headers = {\"tenant\":\"nineteen-seventeen-napa-valley\", \"Content-Type\":\"application/json\"}, params=params)\n",
    "    res = response.json()\n",
    "    info = res['customers']\n",
    "    customers.extend(info)\n",
    "\n",
    "    if (cursor := res.get('cursor')):\n",
    "        params['cursor'] = cursor\n",
    "    else:\n",
    "        break"
   ]
  },
  {
   "cell_type": "code",
   "execution_count": 14,
   "metadata": {},
   "outputs": [
    {
     "name": "stdout",
     "output_type": "stream",
     "text": [
      "{'id': 'f00b015e-0510-4d85-a614-64f226ad7763', 'avatar': None, 'honorific': 'Mr', 'firstName': 'Ulises', 'lastName': 'Lopez', 'birthDate': '1998-09-04', 'city': 'Schenectady', 'stateCode': 'NY', 'zipCode': '12345', 'countryCode': 'US', 'emailMarketingStatus': None, 'lastActivityDate': '2023-01-27T22:32:53.309Z', 'metaData': {'seniority-number': 1831, 'gift-membership': False, 'wine-preference': 'Red', 'favorite-wine-varietals': None, 'are-you-a-member-of-alpha-phi': False, 'affiliation': None, 'university-name': 'A college in long Beach, California ', 'pledge-year': 1998, 'title': None, 'relationship': None, 'was-your-partner-in-a-greek-organization': None, 'fraternity-sorority': None, 'who-referred-you': None, 'department': None, 'corporation': None, 'corporate-discounted-club-shipment': None, 'family-discounted-club-shipment': None, 'corporate-club-shipment-option': None, 'family-club-shipment-option': None, 'are-you-an-alumni-chapter-president-': None, 'if-yes-which-chapter-': None}, 'appData': None, 'appSync': None, 'flags': [], 'notifications': [], 'createdAt': '2023-01-27T22:32:53.315Z', 'updatedAt': '2023-02-15T20:19:15.129Z', 'orderInformation': {'currentWebCartId': None, 'lastOrderId': None, 'lastOrderDate': None, 'orderCount': 0, 'lifetimeValue': 0, 'lifetimeValueSeedAmount': 0, 'yearlyValue': None, 'rank': 0, 'rankTrend': None, 'grossProfit': 0, 'acquisitionChannel': 'Inbound', 'currentClubTitle': None, 'daysInCurrentClub': None, 'daysInClub': None}, 'emails': [{'id': 'd81a89f2-8cbb-4752-a4aa-83566a9649dd', 'email': 'marlon@fewinery.com', 'status': 'Ok'}], 'phones': [{'id': '0dccc486-bf14-4160-af5b-68a3f6b8d043', 'phone': '+14154449911'}], 'tags': [], 'groups': [], 'clubs': [], 'products': [], 'hasAccount': False, 'loginActivity': {'lastLoginAt': None, 'loginIP': None, 'lastLogoutAt': None}}\n"
     ]
    }
   ],
   "source": [
    "# **********************Get information of one single customer****************************\n",
    "customers = []\n",
    "params = {'cursor': 'start'}\n",
    "\n",
    "customer_id = 'f00b015e-0510-4d85-a614-64f226ad7763'\n",
    "url = f'https://api.commerce7.com/v1/customer/{customer_id}'\n",
    "# url = f\"https://api.commerce7.com/v1/customer/{'f00b015e-0510-4d85-a614-64f226ad7763'}\"\n",
    "\n",
    "# response = requests.get(url, auth = HTTPBasicAuth('marlon@fewinery.com', 'VigiliA78'), headers = {\"tenant\":tenants, \"Content-Type\":\"application/json\"}, params=params)\n",
    "response = requests.get(url, auth = HTTPBasicAuth('marlon@fewinery.com', 'VigiliA78'), headers = {\"tenant\":\"510-pearl-napa-valley\", \"Content-Type\":\"application/json\"}, params=params)\n",
    "res = response.json()\n",
    "print(res)\n"
   ]
  },
  {
   "cell_type": "code",
   "execution_count": null,
   "metadata": {},
   "outputs": [],
   "source": [
    "\n",
    "\n",
    "df = pd.DataFrame(customers)\n",
    "df.to_csv('../notebook/doc/nineteen-seventeen-napa-valley.csv', index=False)\n"
   ]
  }
 ],
 "metadata": {
  "kernelspec": {
   "display_name": "notebook",
   "language": "python",
   "name": "python3"
  },
  "language_info": {
   "codemirror_mode": {
    "name": "ipython",
    "version": 3
   },
   "file_extension": ".py",
   "mimetype": "text/x-python",
   "name": "python",
   "nbconvert_exporter": "python",
   "pygments_lexer": "ipython3",
   "version": "3.9.13"
  },
  "orig_nbformat": 4,
  "vscode": {
   "interpreter": {
    "hash": "fe8b9dcfc966b56d4bcdaeeea1fc9223ee8a9bd85fda8829c8ce00978d814f19"
   }
  }
 },
 "nbformat": 4,
 "nbformat_minor": 2
}
